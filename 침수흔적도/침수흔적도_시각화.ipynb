{
  "nbformat": 4,
  "nbformat_minor": 0,
  "metadata": {
    "colab": {
      "provenance": [],
      "authorship_tag": "ABX9TyOXE4c9VMyXlNNtb673PYd7",
      "include_colab_link": true
    },
    "kernelspec": {
      "name": "python3",
      "display_name": "Python 3"
    },
    "language_info": {
      "name": "python"
    }
  },
  "cells": [
    {
      "cell_type": "markdown",
      "metadata": {
        "id": "view-in-github",
        "colab_type": "text"
      },
      "source": [
        "<a href=\"https://colab.research.google.com/github/SolarHO/FloodDamage_BigData/blob/main/%EC%B9%A8%EC%88%98%ED%9D%94%EC%A0%81%EB%8F%84/%EC%B9%A8%EC%88%98%ED%9D%94%EC%A0%81%EB%8F%84_%EC%8B%9C%EA%B0%81%ED%99%94.ipynb\" target=\"_parent\"><img src=\"https://colab.research.google.com/assets/colab-badge.svg\" alt=\"Open In Colab\"/></a>"
      ]
    },
    {
      "cell_type": "markdown",
      "metadata": {
        "id": "rx_H0Z5S688a"
      },
      "source": [
        "## 1. 기본 지도 생성(m)"
      ]
    },
    {
      "cell_type": "code",
      "execution_count": null,
      "metadata": {
        "id": "VNg2HoNaAWyd"
      },
      "outputs": [],
      "source": [
        "import folium\n",
        "import pandas as pd\n",
        "import geopandas as gpd\n",
        "import json"
      ]
    },
    {
      "cell_type": "code",
      "execution_count": null,
      "metadata": {
        "id": "qowdKNU5dzoM"
      },
      "outputs": [],
      "source": [
        "# 기본 지도 생성 (중앙 좌표와 줌 레벨은 임의로 설정)\n",
        "m = folium.Map(location=[37.5665, 126.978], zoom_start=11)  # 서울 중심으로 설정\n",
        "\n",
        "# 등고선을 직관적으로 보기 위해서 terrain 지도 사용\n",
        "tiles = \"https://tiles.stadiamaps.com/tiles/stamen_terrain/{z}/{x}/{y}{r}.png?api_key=c2e2edbf-1076-4f47-bfbc-e2df240577af\"\n",
        "attr = \"terrain\"\n",
        "\n",
        "m = folium.Map(\n",
        "    location=[37.5665, 126.978],\n",
        "    zoom_start=11,\n",
        "    tiles=tiles,\n",
        "    attr=attr\n",
        ")"
      ]
    },
    {
      "cell_type": "markdown",
      "metadata": {
        "id": "xCWismY2pXhC"
      },
      "source": [
        "## 2. 지도에 서울시 지역 레이어 표시"
      ]
    },
    {
      "cell_type": "code",
      "execution_count": null,
      "metadata": {
        "id": "gHjaGTneqAn6"
      },
      "outputs": [],
      "source": [
        "s_geo='https://raw.githubusercontent.com/southkorea/seoul-maps/master/kostat/2013/json/seoul_municipalities_geo_simple.json'\n",
        "\n",
        "# GeoJSON 데이터를 지도에 추가\n",
        "folium.GeoJson(\n",
        "    s_geo,\n",
        "    style_function=lambda feature: {\n",
        "        'color': 'red',  # 테두리 색\n",
        "        'weight': 2,        # 테두리 두께\n",
        "        'fillColor': 'red',  # 채우기 색\n",
        "        'fillOpacity': 0.1   # 채우기 투명도\n",
        "    }\n",
        ").add_to(m)"
      ]
    },
    {
      "cell_type": "markdown",
      "source": [
        "## 4) 추출한 침수흔적도 시각화"
      ],
      "metadata": {
        "id": "3M_0JlaV4Ppv"
      }
    },
    {
      "cell_type": "code",
      "source": [
        "# GeoDataFrame으로 shp 파일 읽기\n",
        "gdf = gpd.read_file(\"FloodMap.shp\")\n",
        "\n",
        "#geojson 형식으로 변환(좌표계를 4326)\n",
        "gdf = gdf.to_crs(epsg=4326)\n",
        "geojson_data = gdf.to_json()\n",
        "\n",
        "# geojson_data를 파일로 저장\n",
        "with open(\"FloodMap.geojson\", \"w\", encoding=\"utf-8\") as f:\n",
        "    json.dump(json.loads(geojson_data), f, ensure_ascii=False, indent=4)"
      ],
      "metadata": {
        "id": "xiFWZF63q_M7"
      },
      "execution_count": null,
      "outputs": []
    },
    {
      "cell_type": "code",
      "source": [
        "# 침수흔적도 geojson 파일을 읽어옴\n",
        "with open(\"FloodMap.geojson\", 'r', encoding='utf-8') as f:\n",
        "    geojson_data = json.load(f)"
      ],
      "metadata": {
        "id": "yTIW2JE5-_7x"
      },
      "execution_count": null,
      "outputs": []
    },
    {
      "cell_type": "code",
      "source": [
        "# 침수 범례에 따라 색상으로 구분\n",
        "def get_color(FLUD_GD):\n",
        "    color_map = {\n",
        "        1: (255, 255, 127),   #1등급(0.5m미만) 노란색\n",
        "        2: (223, 255, 127),   #2등급(0.5m~1.0m미만) 녹황색\n",
        "        3: (127, 255, 192),   #3등급(1.0m~1.5m미만) 연녹색\n",
        "        4: (127, 200, 200),   #4등급(1.5m~2.0m미만) 청녹색\n",
        "        5: (127, 200, 255),   #5등급(2.0m~3.0m미만) 연청색\n",
        "        6: (127, 127, 255)    #6등급(3.0m이상) 고동색\n",
        "    }\n",
        "    return color_map.get(FLUD_GD, (169, 169, 169))  # 기본값 'gray' (169, 169, 169)\n",
        "\n",
        "def style_function(feature):\n",
        "    FLUD_GD = feature['properties']['FLUD_GD']\n",
        "    rgb_color = get_color(FLUD_GD)\n",
        "    return {\n",
        "        'fillColor': f'rgba{rgb_color + (0.9,)}',\n",
        "        'weight': 1,\n",
        "        'opacity': 1,\n",
        "        'fillOpacity': 0.6\n",
        "    }\n",
        "\n",
        "# GeoJSON 데이터를 지도에 추가\n",
        "folium.GeoJson(\n",
        "    geojson_data,\n",
        "    style_function=style_function\n",
        ").add_to(m)\n",
        "\n",
        "# 지도 출력\n",
        "m"
      ],
      "metadata": {
        "id": "-H6xNjYzCCWy"
      },
      "execution_count": null,
      "outputs": []
    },
    {
      "cell_type": "markdown",
      "metadata": {
        "id": "CicoWDTS7ILJ"
      },
      "source": [
        "## 5. 자치구별 불투수면적 현황 시각화"
      ]
    },
    {
      "cell_type": "code",
      "execution_count": null,
      "metadata": {
        "id": "eWI3fPcJbc2K"
      },
      "outputs": [],
      "source": [
        "import pandas as pd\n",
        "\n",
        "import folium\n",
        "\n",
        "df=pd.read_csv('/content/서울특별시_자치구별 불투수면적 현황_20201231.csv',encoding='euc-kr')\n",
        "\n",
        "import requests\n",
        "import json\n",
        "import re\n",
        "\n",
        "s_map = folium.Map(location=[37.559984,126.9753071],  # 숭례문 위도, 경도\n",
        "                   zoom_start=11)\n",
        "\n",
        "folium.Choropleth(geo_data=s_geo, # 지도 경계\n",
        "  data = df, # 표시하려는 데이터\n",
        "  columns = ['자치구','불투수면적 비율(퍼센트)'], # 열 지정\n",
        "  fill_color='YlOrRd', fill_opacity=0.4, line_opacity=0.3,\n",
        "  threshold_scale=[0, 20, 40, 60, 80, 100],\n",
        "  key_on='feature.properties.name',\n",
        ").add_to(m)\n",
        "\n",
        "\n",
        "m"
      ]
    },
    {
      "cell_type": "markdown",
      "metadata": {
        "id": "Jh051zYB7XU6"
      },
      "source": [
        "## 6. 등고선.shp를 이용하여 저지대 침수 지역 시각화"
      ]
    },
    {
      "cell_type": "code",
      "execution_count": null,
      "metadata": {
        "id": "MWysv_ClAyM3"
      },
      "outputs": [],
      "source": [
        "import geopandas as gpd\n",
        "import folium\n",
        "\n",
        "# Shapefile(또는 GeoJSON) 읽기\n",
        "gdf = gpd.read_file(\"서울시 등고선.geojson\")\n",
        "\n",
        "# GeoDataFrame을 WGS84 좌표계(EPSG:4326)로 변환\n",
        "gdf = gdf.to_crs(epsg=4326)\n",
        "\n",
        "# GeoDataFrame을 GeoJSON으로 변환 후 지도에 추가\n",
        "folium.GeoJson(\n",
        "    gdf.to_json(),  # GeoDataFrame을 GeoJSON으로 변환\n",
        "    name=\"서울시 등고선\",\n",
        "    style_function=lambda feature: {\n",
        "        'color': 'black',   # 선 색상\n",
        "        'weight': 1,         # 선 두께\n",
        "        'opacity': 0.8       # 선 투명도\n",
        "    }\n",
        ").add_to(m)\n",
        "\n",
        "# 지도 출력\n",
        "m"
      ]
    }
  ]
}